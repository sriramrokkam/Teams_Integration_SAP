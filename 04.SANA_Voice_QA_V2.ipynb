{
 "cells": [
  {
   "cell_type": "markdown",
   "metadata": {},
   "source": [
    "# Conversational Voice AI with Knowledge Representation of Extended Warehouse Management"
   ]
  },
  {
   "cell_type": "markdown",
   "metadata": {},
   "source": [
    "# Backend Technologies:  \n",
    "   1. Azure -Cognitive AI      for NLP Services\n",
    "   2. SAP S4 Embedded EWM 9.3   for Warehouse Operations.\n",
    "   3. SAP ABAP                  for Server Side Validation.\n",
    "   4. Python 3.3               for Client Side Validations.\n",
    "   \n",
    "### Integration Technologies:\n",
    "   1. Azure Cognitive AI \n",
    "   2. Azure NLP (Text and Speech)\n",
    "   3. SAP Restful API's. \n",
    "   4. WEB Hooks\n",
    "                    \n",
    "### Frontend Technologies:\n",
    "   1. UI5 / Adaptive Cards/ Teams Channel\n",
    "   2. Django / CSS / JS"
   ]
  },
  {
   "cell_type": "code",
   "execution_count": null,
   "metadata": {},
   "outputs": [],
   "source": [
    "# Import namespaces\n",
    "from dotenv import load_dotenv\n",
    "from datetime import datetime\n",
    "import json\n",
    "import os\n",
    "import azure.cognitiveservices.speech as speech_sdk\n",
    "import requests\n",
    "#Global Keys: Get keys for Azure Cognitive AI\n",
    "from azure.core.credentials import AzureKeyCredential\n",
    "from azure.ai.language.questionanswering import QuestionAnsweringClient"
   ]
  },
  {
   "cell_type": "code",
   "execution_count": null,
   "metadata": {},
   "outputs": [],
   "source": [
    "endpoint = \"https://sanaai.cognitiveservices.azure.com/\"\n",
    "credential = AzureKeyCredential(\"d46d00379ac748419ab6c6c346699130\")\n",
    "knowledge_base_project = \"SANA-QA\"\n",
    "deployment = \"australiaeast\"\n",
    "GV_COGKEY = os.getenv('COG_SERVICE_KEY')\n",
    "GV_COGREG = os.getenv('COG_SERVICE_REGION')\n",
    "lv_webhook_url = os.getenv('GV_Webhook')"
   ]
  },
  {
   "cell_type": "code",
   "execution_count": null,
   "metadata": {},
   "outputs": [],
   "source": [
    "# Class to Get Speech Config Parameters by passing keys.\n",
    "class GCL_S2T:\n",
    "    # Define Method: Configure speech service\n",
    "    # Pass the Global keys to Speech SDK and get Speech Config variables.\n",
    "     \n",
    "    def config_speech(self): \n",
    "        global speech_config\n",
    "        speech_config = speech_sdk.SpeechConfig(GV_COGKEY, GV_COGREG)\n",
    "        print('Ready to use speech service in:', speech_config.region)\n",
    "\n",
    "    # Define Method Transcribe Command\n",
    "\n",
    "    def TranscribeCommand(self):\n",
    "        print(speech_config)\n",
    "     # automatic language detection.\n",
    "        auto_detect_source_language_config = speech_sdk.languageconfig.AutoDetectSourceLanguageConfig()\n",
    "    # Configure speech recognition\n",
    "        audio_config = speech_sdk.AudioConfig(use_default_microphone=True)\n",
    "        speech_recognizer = speech_sdk.SpeechRecognizer(speech_config, audio_config)  \n",
    "        print('Listening...........')\n",
    "\n",
    "    # Process speech input\n",
    "        speech = speech_recognizer.recognize_once_async().get()\n",
    "        if speech.reason == speech_sdk.ResultReason.RecognizedSpeech:\n",
    "             command = speech.text\n",
    "        else:\n",
    "            print(speech.reason)\n",
    "\n",
    "    # Return the command\n",
    "        return command"
   ]
  },
  {
   "cell_type": "code",
   "execution_count": null,
   "metadata": {},
   "outputs": [],
   "source": [
    "# Class to Read the Knowledge Representations from Language Studio built.\n",
    "class GCL_QA:\n",
    "    def get_answer(self, gv_question):\n",
    "        client = QuestionAnsweringClient(endpoint, credential)\n",
    "        with client:\n",
    "            question= gv_question\n",
    "            output = client.get_answers(\n",
    "            question = question,\n",
    "            project_name=knowledge_base_project,\n",
    "            deployment_name=deployment\n",
    "            )\n",
    "        return output"
   ]
  },
  {
   "cell_type": "code",
   "execution_count": null,
   "metadata": {},
   "outputs": [],
   "source": [
    "#language to Convert the Text to Speech\n",
    "class GCL_T2S:\n",
    "    def detection_to_speaker(self,text):    \n",
    "    # create the auto detection language configuration without specific languages\n",
    "        auto_detect_source_language_config = speech_sdk.languageconfig.AutoDetectSourceLanguageConfig()\n",
    "        speech_synthesizer = speech_sdk.SpeechSynthesizer( speech_config=speech_config, auto_detect_source_language_config=auto_detect_source_language_config)\n",
    "        result = speech_synthesizer.speak_text_async(text).get()        \n",
    "        # Check result\n",
    "\n",
    "        if result.reason == speech_sdk.ResultReason.SynthesizingAudioCompleted:\n",
    "            print(\"Speech synthesized to speaker for text [{}]\".format(text))\n",
    "            stream = speech_sdk.AudioDataStream(result)\n",
    "            stream.save_to_wav_file(r\"output.wav\")"
   ]
  },
  {
   "cell_type": "code",
   "execution_count": null,
   "metadata": {},
   "outputs": [],
   "source": [
    "# Initialize objects for all three services (Without Prompt)\n",
    "obj_t2s = GCL_T2S()\n",
    "obj_qa  = GCL_QA()\n",
    "obj_s2t = GCL_S2T()\n",
    "# Prompt for Question\n",
    "obj_t2s.detection_to_speaker(\"This is Sana, your voice AI ! What can i do for you? \")\n",
    "# Capture the Voice\n",
    "obj_s2t.config_speech() # Read Method config_speech\n",
    "gv_question = obj_s2t.TranscribeCommand()\n",
    "print(gv_question)\n",
    "\n",
    "# Read the Knowledge Repository \n",
    "gv_output = obj_qa.get_answer(gv_question)\n",
    "gv_answer = gv_output.answers[0].answer\n",
    "gv_confedence = int(gv_output.answers[0].confidence * 100)\n",
    "\n",
    "# Print(\"Accuracy of \", gv_confedence)\n",
    "# Convert to Speech\n",
    "          \n",
    "if gv_confedence > 30:\n",
    "  read_text = gv_answer  # Send Answer \n",
    "  gv_confedence = str(gv_confedence)\n",
    "  lv_text =  \" with a certainity of \" + gv_confedence + '%' \n",
    "  obj_t2s.detection_to_speaker(lv_text)\n",
    "  obj_t2s.detection_to_speaker(read_text)\n",
    "else:\n",
    "  obj_t2s.detection_to_speaker(\"I am not so Sure about it! \")"
   ]
  }
 ],
 "metadata": {
  "kernelspec": {
   "display_name": "Python 3",
   "language": "python",
   "name": "python3"
  },
  "language_info": {
   "codemirror_mode": {
    "name": "ipython",
    "version": 3
   },
   "file_extension": ".py",
   "mimetype": "text/x-python",
   "name": "python",
   "nbconvert_exporter": "python",
   "pygments_lexer": "ipython3",
   "version": "3.9.6"
  },
  "orig_nbformat": 4
 },
 "nbformat": 4,
 "nbformat_minor": 2
}

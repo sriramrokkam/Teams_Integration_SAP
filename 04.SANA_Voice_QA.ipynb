{
 "cells": [
  {
   "cell_type": "markdown",
   "metadata": {},
   "source": [
    "# Conversational Voice AI with Knowledge Representation of Extended Warehouse Management"
   ]
  },
  {
   "cell_type": "markdown",
   "metadata": {},
   "source": [
    "# Backend Technologies:  \n",
    "   1. Azure -Cognitive AI      for NLP Services\n",
    "   2. SAP S4 Embedded EWM 9.3   for Warehouse Operations.\n",
    "   3. SAP ABAP                  for Server Side Validation.\n",
    "   4. Python 3.3               for Client Side Validations.\n",
    "   \n",
    "### Integration Technologies:\n",
    "   1. Azure Cognitive AI \n",
    "   2. Azure NLP (Text and Speech)\n",
    "   3. SAP Restful API's. \n",
    "   4. WEB Hooks\n",
    "                    \n",
    "### Frontend Technologies:\n",
    "   1. UI5 / Adaptive Cards/ Teams Channel\n",
    "   2. Django / CSS / JS"
   ]
  },
  {
   "cell_type": "code",
   "execution_count": 4,
   "metadata": {},
   "outputs": [],
   "source": [
    "# Import namespaces\n",
    "from dotenv import load_dotenv\n",
    "from datetime import datetime\n",
    "import os\n",
    "import azure.cognitiveservices.speech as speech_sdk\n",
    "#Global Keys: Get keys for Azure Cognitive AI\n",
    "GV_COGKEY = os.getenv('COG_SERVICE_KEY')\n",
    "GV_COGREG = os.getenv('COG_SERVICE_REGION')"
   ]
  },
  {
   "cell_type": "code",
   "execution_count": 5,
   "metadata": {},
   "outputs": [
    {
     "name": "stdout",
     "output_type": "stream",
     "text": [
      "Ready to use speech service in: eastasia\n",
      "<azure.cognitiveservices.speech.SpeechConfig object at 0x10b597670>\n",
      "Speak now...\n",
      "Hello.\n"
     ]
    }
   ],
   "source": [
    "# Class to Get Speech Config Parameters by passing keys.\n",
    "class GCL_S2T:\n",
    "    # Define Method: Configure speech service\n",
    "    # Pass the Global keys to Speech SDK and get Speech Config variables.\n",
    "     \n",
    "    def config_speech(self): \n",
    "        global speech_config\n",
    "        speech_config = speech_sdk.SpeechConfig(GV_COGKEY, GV_COGREG)\n",
    "        print('Ready to use speech service in:', speech_config.region)\n",
    "\n",
    "    # Define Method Transcribe Command\n",
    "\n",
    "    def TranscribeCommand(self):\n",
    "        print(speech_config)\n",
    "     # automatic language detection.\n",
    "        auto_detect_source_language_config = speech_sdk.languageconfig.AutoDetectSourceLanguageConfig()\n",
    "    # Configure speech recognition\n",
    "        audio_config = speech_sdk.AudioConfig(use_default_microphone=True)\n",
    "        speech_recognizer = speech_sdk.SpeechRecognizer(speech_config, audio_config)  \n",
    "        print('Speak now...')\n",
    "\n",
    "    # Process speech input\n",
    "        speech = speech_recognizer.recognize_once_async().get()\n",
    "        if speech.reason == speech_sdk.ResultReason.RecognizedSpeech:\n",
    "             command = speech.text\n",
    "             print(command)\n",
    "        else:\n",
    "            print(speech.reason)\n",
    "\n",
    "    # Return the command\n",
    "        return command\n",
    "\n",
    "##Create Instance of the Speech Class\n",
    "obj_s2t = GCL_S2T()\n",
    "obj_s2t.config_speech() # Read Method config_speech\n",
    "gv_question = obj_s2t.TranscribeCommand() # Transcribe Speech to Text\n"
   ]
  },
  {
   "cell_type": "code",
   "execution_count": 6,
   "metadata": {},
   "outputs": [
    {
     "name": "stderr",
     "output_type": "stream",
     "text": [
      "/Users/I310202/Library/Python/3.9/lib/python/site-packages/urllib3/__init__.py:34: NotOpenSSLWarning: urllib3 v2.0 only supports OpenSSL 1.1.1+, currently the 'ssl' module is compiled with 'LibreSSL 2.8.3'. See: https://github.com/urllib3/urllib3/issues/3020\n",
      "  warnings.warn(\n"
     ]
    },
    {
     "name": "stdout",
     "output_type": "stream",
     "text": [
      "Q: Hello.\n",
      "A: Hi!\n",
      "Confidence Score: 1.0\n",
      "100\n"
     ]
    }
   ],
   "source": [
    "from azure.core.credentials import AzureKeyCredential\n",
    "from azure.ai.language.questionanswering import QuestionAnsweringClient\n",
    "endpoint = \"https://sanaai.cognitiveservices.azure.com/\"\n",
    "credential = AzureKeyCredential(\"d46d00379ac748419ab6c6c346699130\")\n",
    "knowledge_base_project = \"SANA-QA\"\n",
    "deployment = \"australiaeast\"\n",
    "\n",
    "class GCL_QA:\n",
    "    def get_answer(self, gv_question):\n",
    "        client = QuestionAnsweringClient(endpoint, credential)\n",
    "        with client:\n",
    "            question= gv_question\n",
    "            output = client.get_answers(\n",
    "            question = question,\n",
    "            project_name=knowledge_base_project,\n",
    "            deployment_name=deployment\n",
    "            )\n",
    "        return output\n",
    "        \n",
    "        \n",
    "OBJ_QA = GCL_QA()\n",
    "gv_output = OBJ_QA.get_answer(gv_question)\n",
    "\n",
    "print(\"Q: {}\".format(gv_question))\n",
    "print(\"A: {}\".format(gv_output.answers[0].answer))\n",
    "gv_result = gv_output.answers[0].answer\n",
    "print(\"Confidence Score: {}\".format(gv_output.answers[0].confidence)) \n",
    "gv_confedence = int(gv_output.answers[0].confidence * 100)\n",
    "print(gv_confedence)"
   ]
  },
  {
   "cell_type": "code",
   "execution_count": null,
   "metadata": {},
   "outputs": [
    {
     "ename": "NameError",
     "evalue": "name 'gv_result' is not defined",
     "output_type": "error",
     "traceback": [
      "\u001b[0;31m---------------------------------------------------------------------------\u001b[0m",
      "\u001b[0;31mNameError\u001b[0m                                 Traceback (most recent call last)",
      "Cell \u001b[0;32mIn[1], line 14\u001b[0m\n\u001b[1;32m     11\u001b[0m             stream \u001b[39m=\u001b[39m speech_sdk\u001b[39m.\u001b[39mAudioDataStream(result)\n\u001b[1;32m     12\u001b[0m             stream\u001b[39m.\u001b[39msave_to_wav_file(\u001b[39mr\u001b[39m\u001b[39m\"\u001b[39m\u001b[39moutput.wav\u001b[39m\u001b[39m\"\u001b[39m)\n\u001b[0;32m---> 14\u001b[0m read_text \u001b[39m=\u001b[39m gv_result\n\u001b[1;32m     15\u001b[0m obj_t2s \u001b[39m=\u001b[39m T2S()\n\u001b[1;32m     16\u001b[0m \u001b[39mif\u001b[39;00m gv_confedence \u001b[39m>\u001b[39m \u001b[39m30\u001b[39m:\n",
      "\u001b[0;31mNameError\u001b[0m: name 'gv_result' is not defined"
     ]
    }
   ],
   "source": [
    "class T2S:\n",
    "    def detection_to_speaker(self,text):    \n",
    "    # create the auto detection language configuration without specific languages\n",
    "        auto_detect_source_language_config = speech_sdk.languageconfig.AutoDetectSourceLanguageConfig()\n",
    "        speech_synthesizer = speech_sdk.SpeechSynthesizer( speech_config=speech_config, auto_detect_source_language_config=auto_detect_source_language_config)\n",
    "        result = speech_synthesizer.speak_text_async(text).get()        \n",
    "        # Check result\n",
    "\n",
    "        if result.reason == speech_sdk.ResultReason.SynthesizingAudioCompleted:\n",
    "            print(\"Speech synthesized to speaker for text [{}]\".format(text))\n",
    "            stream = speech_sdk.AudioDataStream(result)\n",
    "            stream.save_to_wav_file(r\"output.wav\")\n",
    "\n",
    "read_text = gv_result\n",
    "obj_t2s = T2S()\n",
    "if gv_confedence > 30:\n",
    "    lv_text = \"with an accuray of %d\" %gv_confedence\n",
    "\n",
    "    #lv_text = \"with an accuracy of \" + str(gv_confedence) + \" Percentage, here is my answer\"\n",
    "    obj_t2s.detection_to_speaker(lv_text)\n",
    "    obj_t2s.detection_to_speaker(read_text)\n",
    "else:\n",
    "    obj_t2s.detection_to_speaker(\"I am not so Sure about it! \")\n"
   ]
  }
 ],
 "metadata": {
  "kernelspec": {
   "display_name": "Python 3",
   "language": "python",
   "name": "python3"
  },
  "language_info": {
   "codemirror_mode": {
    "name": "ipython",
    "version": 3
   },
   "file_extension": ".py",
   "mimetype": "text/x-python",
   "name": "python",
   "nbconvert_exporter": "python",
   "pygments_lexer": "ipython3",
   "version": "3.9.6"
  },
  "orig_nbformat": 4
 },
 "nbformat": 4,
 "nbformat_minor": 2
}
